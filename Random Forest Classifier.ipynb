{
 "cells": [
  {
   "cell_type": "code",
   "execution_count": 2,
   "metadata": {},
   "outputs": [],
   "source": [
    "import numpy as np\n",
    "import matplotlib.pyplot as plt\n",
    "import pandas as pd\n",
    "from sklearn.preprocessing import LabelEncoder\n",
    "import warnings\n",
    "warnings.filterwarnings(\"ignore\")\n",
    "from sklearn.ensemble import RandomForestClassifier\n",
    "from sklearn.datasets import make_classification\n",
    "from sklearn.model_selection import train_test_split\n",
    "from sklearn.impute import KNNImputer\n",
    "from sklearn.preprocessing import MinMaxScaler\n",
    "\n",
    "# To use this experimental feature, we need to explicitly ask for it:\n",
    "from sklearn.experimental import enable_iterative_imputer  # noqa\n",
    "from sklearn.datasets import fetch_california_housing\n",
    "from sklearn.impute import SimpleImputer\n",
    "from sklearn.impute import IterativeImputer\n",
    "from sklearn.linear_model import BayesianRidge, Ridge\n",
    "from sklearn.kernel_approximation import Nystroem\n",
    "from sklearn.ensemble import RandomForestRegressor\n",
    "from sklearn.neighbors import KNeighborsRegressor\n",
    "from sklearn.pipeline import make_pipeline\n",
    "from sklearn.model_selection import cross_val_score"
   ]
  },
  {
   "cell_type": "code",
   "execution_count": 4,
   "metadata": {},
   "outputs": [
    {
     "name": "stdout",
     "output_type": "stream",
     "text": [
      "TARGET 2 [1 0]\n",
      "NAME_CONTRACT_TYPE 2 ['Cash loans' 'Revolving loans']\n",
      "CODE_GENDER 3 ['M' 'F' 'XNA']\n",
      "FLAG_OWN_CAR 2 ['N' 'Y']\n",
      "FLAG_OWN_REALTY 2 ['Y' 'N']\n",
      "NAME_EDUCATION_TYPE 5 ['Secondary / secondary special' 'Higher education' 'Incomplete higher'\n",
      " 'Lower secondary' 'Academic degree']\n",
      "NAME_FAMILY_STATUS 6 ['Single / not married' 'Married' 'Civil marriage' 'Widow' 'Separated'\n",
      " 'Unknown']\n",
      "NAME_HOUSING_TYPE 6 ['House / apartment' 'Rented apartment' 'With parents'\n",
      " 'Municipal apartment' 'Office apartment' 'Co-op apartment']\n",
      "FLAG_MOBIL 2 [1 0]\n",
      "FLAG_EMP_PHONE 2 [1 0]\n",
      "FLAG_WORK_PHONE 2 [0 1]\n",
      "FLAG_CONT_MOBILE 2 [1 0]\n",
      "FLAG_PHONE 2 [1 0]\n",
      "FLAG_EMAIL 2 [0 1]\n",
      "REGION_RATING_CLIENT 3 [2 1 3]\n",
      "REGION_RATING_CLIENT_W_CITY 3 [2 1 3]\n",
      "REG_REGION_NOT_LIVE_REGION 2 [0 1]\n",
      "REG_REGION_NOT_WORK_REGION 2 [0 1]\n",
      "LIVE_REGION_NOT_WORK_REGION 2 [0 1]\n",
      "REG_CITY_NOT_LIVE_CITY 2 [0 1]\n",
      "REG_CITY_NOT_WORK_CITY 2 [0 1]\n",
      "LIVE_CITY_NOT_WORK_CITY 2 [0 1]\n",
      "FONDKAPREMONT_MODE 4 ['reg oper account' nan 'org spec account' 'reg oper spec account'\n",
      " 'not specified']\n",
      "HOUSETYPE_MODE 3 ['block of flats' nan 'terraced house' 'specific housing']\n",
      "EMERGENCYSTATE_MODE 2 ['No' nan 'Yes']\n",
      "FLAG_DOCUMENT_2 2 [0 1]\n",
      "FLAG_DOCUMENT_3 2 [1 0]\n",
      "FLAG_DOCUMENT_4 2 [0 1]\n",
      "FLAG_DOCUMENT_5 2 [0 1]\n",
      "FLAG_DOCUMENT_6 2 [0 1]\n",
      "FLAG_DOCUMENT_7 2 [0 1]\n",
      "FLAG_DOCUMENT_8 2 [0 1]\n",
      "FLAG_DOCUMENT_9 2 [0 1]\n",
      "FLAG_DOCUMENT_10 2 [0 1]\n",
      "FLAG_DOCUMENT_11 2 [0 1]\n",
      "FLAG_DOCUMENT_12 2 [0 1]\n",
      "FLAG_DOCUMENT_13 2 [0 1]\n",
      "FLAG_DOCUMENT_14 2 [0 1]\n",
      "FLAG_DOCUMENT_15 2 [0 1]\n",
      "FLAG_DOCUMENT_16 2 [0 1]\n",
      "FLAG_DOCUMENT_17 2 [0 1]\n",
      "FLAG_DOCUMENT_18 2 [0 1]\n",
      "FLAG_DOCUMENT_19 2 [0 1]\n",
      "FLAG_DOCUMENT_20 2 [0 1]\n",
      "FLAG_DOCUMENT_21 2 [0 1]\n",
      "AMT_REQ_CREDIT_BUREAU_HOUR 5 [ 0. nan  1.  2.  3.  4.]\n"
     ]
    }
   ],
   "source": [
    "# show categorical columns\n",
    "\n",
    "for i in data:\n",
    "    if data[i].nunique() < 7:\n",
    "        \n",
    "        print(i,data[i].nunique(),data[i].unique())"
   ]
  },
  {
   "cell_type": "code",
   "execution_count": 5,
   "metadata": {},
   "outputs": [],
   "source": [
    "# select some columns\n",
    "\n",
    "data1=data[['TARGET','FLAG_OWN_CAR','NAME_EDUCATION_TYPE','NAME_CONTRACT_TYPE','NAME_FAMILY_STATUS','NAME_HOUSING_TYPE','AMT_REQ_CREDIT_BUREAU_HOUR']]\n",
    "\n",
    "data1.isnull().sum()\n",
    "\n",
    "data1=data1.head(50000)"
   ]
  },
  {
   "cell_type": "code",
   "execution_count": 6,
   "metadata": {},
   "outputs": [
    {
     "data": {
      "text/html": [
       "<div>\n",
       "<style scoped>\n",
       "    .dataframe tbody tr th:only-of-type {\n",
       "        vertical-align: middle;\n",
       "    }\n",
       "\n",
       "    .dataframe tbody tr th {\n",
       "        vertical-align: top;\n",
       "    }\n",
       "\n",
       "    .dataframe thead th {\n",
       "        text-align: right;\n",
       "    }\n",
       "</style>\n",
       "<table border=\"1\" class=\"dataframe\">\n",
       "  <thead>\n",
       "    <tr style=\"text-align: right;\">\n",
       "      <th></th>\n",
       "      <th>TARGET</th>\n",
       "      <th>FLAG_OWN_CAR</th>\n",
       "      <th>NAME_EDUCATION_TYPE</th>\n",
       "      <th>NAME_CONTRACT_TYPE</th>\n",
       "      <th>NAME_FAMILY_STATUS</th>\n",
       "      <th>NAME_HOUSING_TYPE</th>\n",
       "      <th>AMT_REQ_CREDIT_BUREAU_HOUR</th>\n",
       "    </tr>\n",
       "  </thead>\n",
       "  <tbody>\n",
       "    <tr>\n",
       "      <th>0</th>\n",
       "      <td>1</td>\n",
       "      <td>N</td>\n",
       "      <td>Secondary / secondary special</td>\n",
       "      <td>Cash loans</td>\n",
       "      <td>Single / not married</td>\n",
       "      <td>House / apartment</td>\n",
       "      <td>0.0</td>\n",
       "    </tr>\n",
       "    <tr>\n",
       "      <th>1</th>\n",
       "      <td>0</td>\n",
       "      <td>N</td>\n",
       "      <td>Higher education</td>\n",
       "      <td>Cash loans</td>\n",
       "      <td>Married</td>\n",
       "      <td>House / apartment</td>\n",
       "      <td>0.0</td>\n",
       "    </tr>\n",
       "    <tr>\n",
       "      <th>2</th>\n",
       "      <td>0</td>\n",
       "      <td>Y</td>\n",
       "      <td>Secondary / secondary special</td>\n",
       "      <td>Revolving loans</td>\n",
       "      <td>Single / not married</td>\n",
       "      <td>House / apartment</td>\n",
       "      <td>0.0</td>\n",
       "    </tr>\n",
       "  </tbody>\n",
       "</table>\n",
       "</div>"
      ],
      "text/plain": [
       "   TARGET FLAG_OWN_CAR            NAME_EDUCATION_TYPE NAME_CONTRACT_TYPE  \\\n",
       "0       1            N  Secondary / secondary special         Cash loans   \n",
       "1       0            N               Higher education         Cash loans   \n",
       "2       0            Y  Secondary / secondary special    Revolving loans   \n",
       "\n",
       "     NAME_FAMILY_STATUS  NAME_HOUSING_TYPE  AMT_REQ_CREDIT_BUREAU_HOUR  \n",
       "0  Single / not married  House / apartment                         0.0  \n",
       "1               Married  House / apartment                         0.0  \n",
       "2  Single / not married  House / apartment                         0.0  "
      ]
     },
     "execution_count": 6,
     "metadata": {},
     "output_type": "execute_result"
    }
   ],
   "source": [
    "data1.head(3)"
   ]
  },
  {
   "cell_type": "code",
   "execution_count": 7,
   "metadata": {},
   "outputs": [],
   "source": [
    "data1['FLAG_OWN_CAR'] = data1['FLAG_OWN_CAR'].map( {'Y': 1, 'N': 0} )"
   ]
  },
  {
   "cell_type": "code",
   "execution_count": 8,
   "metadata": {},
   "outputs": [
    {
     "data": {
      "text/html": [
       "<div>\n",
       "<style scoped>\n",
       "    .dataframe tbody tr th:only-of-type {\n",
       "        vertical-align: middle;\n",
       "    }\n",
       "\n",
       "    .dataframe tbody tr th {\n",
       "        vertical-align: top;\n",
       "    }\n",
       "\n",
       "    .dataframe thead th {\n",
       "        text-align: right;\n",
       "    }\n",
       "</style>\n",
       "<table border=\"1\" class=\"dataframe\">\n",
       "  <thead>\n",
       "    <tr style=\"text-align: right;\">\n",
       "      <th></th>\n",
       "      <th>TARGET</th>\n",
       "      <th>FLAG_OWN_CAR</th>\n",
       "      <th>NAME_EDUCATION_TYPE</th>\n",
       "      <th>NAME_CONTRACT_TYPE</th>\n",
       "      <th>NAME_FAMILY_STATUS</th>\n",
       "      <th>NAME_HOUSING_TYPE</th>\n",
       "      <th>AMT_REQ_CREDIT_BUREAU_HOUR</th>\n",
       "    </tr>\n",
       "  </thead>\n",
       "  <tbody>\n",
       "    <tr>\n",
       "      <th>0</th>\n",
       "      <td>1</td>\n",
       "      <td>0</td>\n",
       "      <td>4</td>\n",
       "      <td>0</td>\n",
       "      <td>3</td>\n",
       "      <td>1</td>\n",
       "      <td>0.0</td>\n",
       "    </tr>\n",
       "    <tr>\n",
       "      <th>1</th>\n",
       "      <td>0</td>\n",
       "      <td>0</td>\n",
       "      <td>1</td>\n",
       "      <td>0</td>\n",
       "      <td>1</td>\n",
       "      <td>1</td>\n",
       "      <td>0.0</td>\n",
       "    </tr>\n",
       "    <tr>\n",
       "      <th>2</th>\n",
       "      <td>0</td>\n",
       "      <td>1</td>\n",
       "      <td>4</td>\n",
       "      <td>1</td>\n",
       "      <td>3</td>\n",
       "      <td>1</td>\n",
       "      <td>0.0</td>\n",
       "    </tr>\n",
       "    <tr>\n",
       "      <th>3</th>\n",
       "      <td>0</td>\n",
       "      <td>0</td>\n",
       "      <td>4</td>\n",
       "      <td>0</td>\n",
       "      <td>0</td>\n",
       "      <td>1</td>\n",
       "      <td>NaN</td>\n",
       "    </tr>\n",
       "    <tr>\n",
       "      <th>4</th>\n",
       "      <td>0</td>\n",
       "      <td>0</td>\n",
       "      <td>4</td>\n",
       "      <td>0</td>\n",
       "      <td>3</td>\n",
       "      <td>1</td>\n",
       "      <td>0.0</td>\n",
       "    </tr>\n",
       "  </tbody>\n",
       "</table>\n",
       "</div>"
      ],
      "text/plain": [
       "   TARGET  FLAG_OWN_CAR  NAME_EDUCATION_TYPE  NAME_CONTRACT_TYPE  \\\n",
       "0       1             0                    4                   0   \n",
       "1       0             0                    1                   0   \n",
       "2       0             1                    4                   1   \n",
       "3       0             0                    4                   0   \n",
       "4       0             0                    4                   0   \n",
       "\n",
       "   NAME_FAMILY_STATUS  NAME_HOUSING_TYPE  AMT_REQ_CREDIT_BUREAU_HOUR  \n",
       "0                   3                  1                         0.0  \n",
       "1                   1                  1                         0.0  \n",
       "2                   3                  1                         0.0  \n",
       "3                   0                  1                         NaN  \n",
       "4                   3                  1                         0.0  "
      ]
     },
     "execution_count": 8,
     "metadata": {},
     "output_type": "execute_result"
    }
   ],
   "source": [
    "le = LabelEncoder()\n",
    "\n",
    "for i in data1.columns:\n",
    "\n",
    "    if data1[i].dtype in [object]:\n",
    "\n",
    "        data1[i] = le.fit_transform(data1[i])\n",
    "data1.head()"
   ]
  },
  {
   "cell_type": "code",
   "execution_count": 9,
   "metadata": {},
   "outputs": [],
   "source": [
    "# imputing missing values with KNN imputer\n",
    "\n",
    "knn_imputer = KNNImputer(n_neighbors=5, weights='uniform', metric='nan_euclidean')\n",
    "\n",
    "df_knn_imputed = pd.DataFrame(knn_imputer.fit_transform(data1), columns=data1.columns)"
   ]
  },
  {
   "cell_type": "code",
   "execution_count": 35,
   "metadata": {},
   "outputs": [],
   "source": [
    "X=df_knn_imputed[['FLAG_OWN_CAR','NAME_EDUCATION_TYPE','NAME_CONTRACT_TYPE','NAME_FAMILY_STATUS','NAME_HOUSING_TYPE','AMT_REQ_CREDIT_BUREAU_HOUR']]\n",
    "\n",
    "y=df_knn_imputed['TARGET']"
   ]
  },
  {
   "cell_type": "code",
   "execution_count": 36,
   "metadata": {},
   "outputs": [],
   "source": [
    "# Split dataset into training set and test set\n",
    "\n",
    "X_train, X_test, y_train, y_test = train_test_split(X, y, test_size=0.3) # 70% training and 30% test"
   ]
  },
  {
   "cell_type": "code",
   "execution_count": 37,
   "metadata": {},
   "outputs": [
    {
     "name": "stdout",
     "output_type": "stream",
     "text": [
      "Accuracy: 0.9222666666666667\n"
     ]
    }
   ],
   "source": [
    "clf = RandomForestClassifier(n_estimators=100, max_depth=2, random_state=0)\n",
    "\n",
    "clf.fit(X_train,y_train)\n",
    "\n",
    "y_pred=clf.predict(X_test)\n",
    "\n",
    "#Import scikit-learn metrics module for accuracy calculation\n",
    "from sklearn import metrics\n",
    "# Model Accuracy, how often is the classifier correct?\n",
    "print(\"Accuracy:\",metrics.accuracy_score(y_test, y_pred))"
   ]
  },
  {
   "cell_type": "code",
   "execution_count": 38,
   "metadata": {},
   "outputs": [
    {
     "data": {
      "text/plain": [
       "array([0.])"
      ]
     },
     "execution_count": 38,
     "metadata": {},
     "output_type": "execute_result"
    }
   ],
   "source": [
    "clf.predict([[ 0, 4, 0, 3, 1, 0]])"
   ]
  },
  {
   "cell_type": "code",
   "execution_count": 39,
   "metadata": {},
   "outputs": [],
   "source": [
    "from sklearn.metrics import confusion_matrix"
   ]
  },
  {
   "cell_type": "code",
   "execution_count": 41,
   "metadata": {},
   "outputs": [
    {
     "data": {
      "text/plain": [
       "array([[13834,     0],\n",
       "       [ 1166,     0]], dtype=int64)"
      ]
     },
     "execution_count": 41,
     "metadata": {},
     "output_type": "execute_result"
    }
   ],
   "source": [
    "confusion_matrix(y_test, y_pred)"
   ]
  },
  {
   "cell_type": "code",
   "execution_count": 42,
   "metadata": {},
   "outputs": [
    {
     "data": {
      "text/plain": [
       "(13834, 0, 1166, 0)"
      ]
     },
     "execution_count": 42,
     "metadata": {},
     "output_type": "execute_result"
    }
   ],
   "source": [
    "tn, fp, fn, tp = confusion_matrix(y_test, y_pred).ravel()\n",
    "tn, fp, fn, tp"
   ]
  },
  {
   "cell_type": "code",
   "execution_count": null,
   "metadata": {},
   "outputs": [],
   "source": []
  }
 ],
 "metadata": {
  "kernelspec": {
   "display_name": "base",
   "language": "python",
   "name": "python3"
  },
  "language_info": {
   "codemirror_mode": {
    "name": "ipython",
    "version": 3
   },
   "file_extension": ".py",
   "mimetype": "text/x-python",
   "name": "python",
   "nbconvert_exporter": "python",
   "pygments_lexer": "ipython3",
   "version": "3.8.8 (default, Apr 13 2021, 15:08:03) [MSC v.1916 64 bit (AMD64)]"
  },
  "orig_nbformat": 4,
  "vscode": {
   "interpreter": {
    "hash": "cb2587bb7b93b2ab6f5b81e13d7cbd9c975b4db143a315a6f67449e65b49c133"
   }
  }
 },
 "nbformat": 4,
 "nbformat_minor": 2
}
